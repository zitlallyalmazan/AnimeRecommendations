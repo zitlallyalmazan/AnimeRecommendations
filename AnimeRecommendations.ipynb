{
 "cells": [
  {
   "cell_type": "code",
   "execution_count": null,
   "id": "6fb0bbaa-154f-461a-a9f3-b9f2cf64823f",
   "metadata": {},
   "outputs": [],
   "source": [
    "import pandas\n",
    "pandas._version_\n",
    "\n",
    "'0.24.2'\n",
    "\n"
   ]
  }
 ],
 "metadata": {
  "kernelspec": {
   "display_name": "Python 3 (ipykernel)",
   "language": "python",
   "name": "python3"
  },
  "language_info": {
   "codemirror_mode": {
    "name": "ipython",
    "version": 3
   },
   "file_extension": ".py",
   "mimetype": "text/x-python",
   "name": "python",
   "nbconvert_exporter": "python",
   "pygments_lexer": "ipython3",
   "version": "3.9.7"
  }
 },
 "nbformat": 4,
 "nbformat_minor": 5
}
