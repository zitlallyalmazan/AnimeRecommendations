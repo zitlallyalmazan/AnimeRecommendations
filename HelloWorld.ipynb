{
 "cells": [
  {
   "cell_type": "markdown",
   "id": "8ceaa5d0-04d8-476b-9693-8dbe46181bda",
   "metadata": {},
   "source": [
    "# Python Project "
   ]
  },
  {
   "cell_type": "markdown",
   "id": "99c142a9-b00c-478a-8588-843dc2358716",
   "metadata": {},
   "source": [
    "This is my first *Hello world* program"
   ]
  },
  {
   "cell_type": "markdown",
   "id": "bd69a614-ec0d-4043-b6d7-e7a6c67d5a0a",
   "metadata": {},
   "source": [
    "#### Example 1:"
   ]
  },
  {
   "cell_type": "code",
   "execution_count": 1,
   "id": "0c4e673e-3ea4-4328-aff9-a44538711e7e",
   "metadata": {},
   "outputs": [
    {
     "name": "stdout",
     "output_type": "stream",
     "text": [
      "Hello World!\n"
     ]
    }
   ],
   "source": [
    "print(\"Hello World!\")"
   ]
  },
  {
   "cell_type": "markdown",
   "id": "b162d92f-5087-409f-90bf-193e50239e4e",
   "metadata": {},
   "source": [
    "#### you can also use CTRL+ENTER to run selected Cell"
   ]
  },
  {
   "cell_type": "code",
   "execution_count": 2,
   "id": "47d3ca3c-e8c5-4162-bc0a-5b132ff90516",
   "metadata": {},
   "outputs": [
    {
     "name": "stdout",
     "output_type": "stream",
     "text": [
      "Hello World!\n"
     ]
    }
   ],
   "source": [
    "name=\"Hello World!\"\n",
    "\n",
    "print(name)"
   ]
  },
  {
   "cell_type": "code",
   "execution_count": 3,
   "id": "97888fe7-cc0a-4e15-812f-583ff726dcad",
   "metadata": {},
   "outputs": [
    {
     "name": "stdout",
     "output_type": "stream",
     "text": [
      "50\n",
      "50\n"
     ]
    }
   ],
   "source": [
    "a=5\n",
    "b=10\n",
    "c=a * b\n",
    "print(c)\n",
    "print(a*b)"
   ]
  }
 ],
 "metadata": {
  "kernelspec": {
   "display_name": "Python 3 (ipykernel)",
   "language": "python",
   "name": "python3"
  },
  "language_info": {
   "codemirror_mode": {
    "name": "ipython",
    "version": 3
   },
   "file_extension": ".py",
   "mimetype": "text/x-python",
   "name": "python",
   "nbconvert_exporter": "python",
   "pygments_lexer": "ipython3",
   "version": "3.9.7"
  }
 },
 "nbformat": 4,
 "nbformat_minor": 5
}
